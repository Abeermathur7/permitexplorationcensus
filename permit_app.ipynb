{
 "cells": [
  {
   "cell_type": "code",
   "execution_count": null,
   "metadata": {},
   "outputs": [],
   "source": [
    "import streamlit as st\n",
    "import pandas as pd\n",
    "import folium\n",
    "from folium.plugins import MarkerCluster, HeatMap\n",
    "from streamlit_folium import st_folium"
   ]
  },
  {
   "cell_type": "code",
   "execution_count": null,
   "metadata": {},
   "outputs": [],
   "source": [
    "\n",
    "\n",
    "\n",
    "# Page title\n",
    "st.set_page_config(page_title='Permit Data Exploration', page_icon='📊')\n",
    "st.title('📊 Permit Data Exploration')\n",
    "\n",
    "with st.expander('About this app'):\n",
    "    st.markdown('**What can this app do?**')\n",
    "    st.info('Interact with the permit dataset/Parquet files and explore each column.')\n",
    "    st.markdown('**How to use the app?**')\n",
    "    st.warning('This is a prototype, functionality will be added as we develop further.')\n",
    "\n",
    "st.subheader('Explore Permit Data by Construction Type and State')"
   ]
  },
  {
   "cell_type": "code",
   "execution_count": null,
   "metadata": {},
   "outputs": [],
   "source": [
    "\n",
    "# File upload\n",
    "uploaded_file = st.file_uploader(\"Upload your Parquet file\", type=['parquet'])\n",
    "\n",
    "if uploaded_file is not None:\n",
    "    df = pd.read_parquet(uploaded_file)\n",
    "else:\n",
    "    df = pd.read_parquet('data/csv_reveal-gc-2020-50.parquet')"
   ]
  },
  {
   "cell_type": "code",
   "execution_count": null,
   "metadata": {},
   "outputs": [],
   "source": [
    "\n",
    "# Input widgets\n",
    "## Construction Type selection\n",
    "const_type_list = df.CONST_TYPE.unique()\n",
    "const_type_selection = st.multiselect('Select Construction Types', const_type_list, const_type_list[:3])\n"
   ]
  },
  {
   "cell_type": "code",
   "execution_count": null,
   "metadata": {},
   "outputs": [],
   "source": [
    "\n",
    "## State selection\n",
    "state_list = df.SITE_STATE.unique()\n",
    "state_selection = st.multiselect('Select States', state_list, state_list[:3])\n",
    "\n",
    "jurisdiction_list = df['SITE_JURIS'].unique().tolist()\n",
    "jurisdiction_selection = st.multiselect('Select Jurisdictions', jurisdiction_list, jurisdiction_list[:3])\n"
   ]
  },
  {
   "cell_type": "code",
   "execution_count": null,
   "metadata": {},
   "outputs": [],
   "source": [
    "\n",
    "# Filter data based on selections\n",
    "df_selection = df[\n",
    "    df['CONST_TYPE'].isin(const_type_selection) &\n",
    "    df['SITE_STATE'].isin(state_selection) &\n",
    "    df['SITE_JURIS'].isin(jurisdiction_selection)\n",
    "]\n"
   ]
  },
  {
   "cell_type": "code",
   "execution_count": 2,
   "metadata": {},
   "outputs": [
    {
     "name": "stderr",
     "output_type": "stream",
     "text": [
      "2024-06-03 17:13:05.372 WARNING streamlit.runtime.state.session_state_proxy: Session state does not function when running a script without `streamlit run`\n",
      "2024-06-03 17:13:05.722 \n",
      "  \u001b[33m\u001b[1mWarning:\u001b[0m to view this Streamlit app on a browser, run it with the following\n",
      "  command:\n",
      "\n",
      "    streamlit run /home/vscode/.local/lib/python3.11/site-packages/ipykernel_launcher.py [ARGUMENTS]\n"
     ]
    },
    {
     "data": {
      "text/plain": [
       "{'selection': {'interval_selection': {}, 'point_selection': {}}}"
      ]
     },
     "execution_count": 2,
     "metadata": {},
     "output_type": "execute_result"
    }
   ],
   "source": [
    "\n",
    "import streamlit as st\n",
    "import pandas as pd\n",
    "import numpy as np\n",
    "import altair as alt\n",
    "\n",
    "if \"data\" not in st.session_state:\n",
    "    st.session_state.data = pd.DataFrame(\n",
    "        np.random.randn(20, 3), columns=[\"a\", \"b\", \"c\"]\n",
    "    )\n",
    "df = st.session_state.data\n",
    "\n",
    "point_selector = alt.selection_point(\"point_selection\")\n",
    "interval_selector = alt.selection_interval(\"interval_selection\")\n",
    "chart = (\n",
    "    alt.Chart(df)\n",
    "    .mark_circle()\n",
    "    .encode(\n",
    "        x=\"a\",\n",
    "        y=\"b\",\n",
    "        size=\"c\",\n",
    "        color=\"c\",\n",
    "        tooltip=[\"a\", \"b\", \"c\"],\n",
    "        fillOpacity=alt.condition(point_selector, alt.value(1), alt.value(0.3)),\n",
    "    )\n",
    "    .add_params(point_selector, interval_selector)\n",
    ")\n",
    "\n",
    "event = st.altair_chart(chart, key=\"alt_chart\", on_select=\"rerun\")\n",
    "\n",
    "event\n",
    "\n"
   ]
  },
  {
   "cell_type": "code",
   "execution_count": null,
   "metadata": {},
   "outputs": [],
   "source": [
    "df_selection.columns"
   ]
  },
  {
   "cell_type": "code",
   "execution_count": null,
   "metadata": {},
   "outputs": [],
   "source": [
    "df_selection[['PMT_DATE','CREATEDATE','PMT_WEEK']]"
   ]
  },
  {
   "cell_type": "code",
   "execution_count": null,
   "metadata": {},
   "outputs": [],
   "source": []
  },
  {
   "cell_type": "code",
   "execution_count": null,
   "metadata": {},
   "outputs": [],
   "source": [
    "df_selection['PMT_DATE']"
   ]
  },
  {
   "cell_type": "code",
   "execution_count": null,
   "metadata": {},
   "outputs": [],
   "source": [
    "df_selection['SITE_GEOCODE_DATE']"
   ]
  },
  {
   "cell_type": "code",
   "execution_count": null,
   "metadata": {},
   "outputs": [],
   "source": [
    "\n",
    "# Display DataFrame\n",
    "st.dataframe(df_selection)\n",
    "# Filter data based on selections\n",
    "df_selection = df[df.CONST_TYPE.isin(const_type_selection) & df.SITE_STATE.isin(state_selection)]\n",
    "\n",
    "# Display DataFrame\n",
    "st.dataframe(df_selection)\n"
   ]
  },
  {
   "cell_type": "code",
   "execution_count": null,
   "metadata": {},
   "outputs": [],
   "source": [
    "\n",
    "# Pivot table to aggregate data\n",
    "reshaped_df = df_selection.pivot_table(index='SITE_STATE', columns='CONST_TYPE', values='PERMITID', aggfunc='count', fill_value=0)\n",
    "reshaped_df = reshaped_df.sort_values(by='SITE_STATE', ascending=False)\n"
   ]
  },
  {
   "cell_type": "code",
   "execution_count": null,
   "metadata": {},
   "outputs": [],
   "source": [
    "\n",
    "# Display reshaped DataFrame\n",
    "st.subheader('Aggregated Data by State and Construction Type')\n",
    "st.dataframe(reshaped_df)\n"
   ]
  },
  {
   "cell_type": "code",
   "execution_count": null,
   "metadata": {},
   "outputs": [],
   "source": [
    "\n",
    "# Prepare data for chart\n",
    "df_chart = reshaped_df.reset_index().melt(id_vars='SITE_STATE', var_name='CONST_TYPE', value_name='COUNT')\n"
   ]
  },
  {
   "cell_type": "code",
   "execution_count": null,
   "metadata": {},
   "outputs": [],
   "source": [
    "st.subheader('Monthly Lag Analysis')\n",
    "\n",
    "\n",
    "# Subtract 7 days for the grace period\n",
    "df_selection['CREATEDATE']  =pd.to_datetime(df_selection['CREATEDATE'],format = \"%m/%d/%Y\")\n",
    "df_selection['PMT_DATE']  = pd.to_datetime(df_selection['PMT_DATE'],format = \"%m/%d/%Y\")\n",
    "# Calculate month lag\n",
    "\n",
    "df_selection['MONTH_LAG'] = (df_selection['CREATEDATE']) -(df_selection['PMT_DATE'])"
   ]
  }
 ],
 "metadata": {
  "kernelspec": {
   "display_name": "Python 3",
   "language": "python",
   "name": "python3"
  },
  "language_info": {
   "codemirror_mode": {
    "name": "ipython",
    "version": 3
   },
   "file_extension": ".py",
   "mimetype": "text/x-python",
   "name": "python",
   "nbconvert_exporter": "python",
   "pygments_lexer": "ipython3",
   "version": "3.11.9"
  }
 },
 "nbformat": 4,
 "nbformat_minor": 2
}
