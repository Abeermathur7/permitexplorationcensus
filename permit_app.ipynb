{
 "cells": [
  {
   "cell_type": "code",
   "execution_count": 2,
   "metadata": {},
   "outputs": [],
   "source": [
    "import streamlit as st\n",
    "import pandas as pd\n",
    "import folium\n",
    "from folium.plugins import MarkerCluster, HeatMap\n",
    "from streamlit_folium import st_folium"
   ]
  },
  {
   "cell_type": "code",
   "execution_count": 3,
   "metadata": {},
   "outputs": [
    {
     "name": "stderr",
     "output_type": "stream",
     "text": [
      "2024-05-31 21:36:07.795 \n",
      "  \u001b[33m\u001b[1mWarning:\u001b[0m to view this Streamlit app on a browser, run it with the following\n",
      "  command:\n",
      "\n",
      "    streamlit run /home/vscode/.local/lib/python3.11/site-packages/ipykernel_launcher.py [ARGUMENTS]\n"
     ]
    },
    {
     "data": {
      "text/plain": [
       "DeltaGenerator()"
      ]
     },
     "execution_count": 3,
     "metadata": {},
     "output_type": "execute_result"
    }
   ],
   "source": [
    "\n",
    "\n",
    "\n",
    "# Page title\n",
    "st.set_page_config(page_title='Permit Data Exploration', page_icon='📊')\n",
    "st.title('📊 Permit Data Exploration')\n",
    "\n",
    "with st.expander('About this app'):\n",
    "    st.markdown('**What can this app do?**')\n",
    "    st.info('Interact with the permit dataset/Parquet files and explore each column.')\n",
    "    st.markdown('**How to use the app?**')\n",
    "    st.warning('This is a prototype, functionality will be added as we develop further.')\n",
    "\n",
    "st.subheader('Explore Permit Data by Construction Type and State')"
   ]
  },
  {
   "cell_type": "code",
   "execution_count": 4,
   "metadata": {},
   "outputs": [],
   "source": [
    "\n",
    "# File upload\n",
    "uploaded_file = st.file_uploader(\"Upload your Parquet file\", type=['parquet'])\n",
    "\n",
    "if uploaded_file is not None:\n",
    "    df = pd.read_parquet(uploaded_file)\n",
    "else:\n",
    "    df = pd.read_parquet('data/csv_reveal-gc-2020-50.parquet')"
   ]
  },
  {
   "cell_type": "code",
   "execution_count": 5,
   "metadata": {},
   "outputs": [],
   "source": [
    "\n",
    "# Input widgets\n",
    "## Construction Type selection\n",
    "const_type_list = df.CONST_TYPE.unique()\n",
    "const_type_selection = st.multiselect('Select Construction Types', const_type_list, const_type_list[:3])\n"
   ]
  },
  {
   "cell_type": "code",
   "execution_count": 6,
   "metadata": {},
   "outputs": [],
   "source": [
    "\n",
    "## State selection\n",
    "state_list = df.SITE_STATE.unique()\n",
    "state_selection = st.multiselect('Select States', state_list, state_list[:3])\n",
    "\n",
    "jurisdiction_list = df['SITE_JURIS'].unique().tolist()\n",
    "jurisdiction_selection = st.multiselect('Select Jurisdictions', jurisdiction_list, jurisdiction_list[:3])\n"
   ]
  },
  {
   "cell_type": "code",
   "execution_count": 7,
   "metadata": {},
   "outputs": [],
   "source": [
    "\n",
    "# Filter data based on selections\n",
    "df_selection = df[\n",
    "    df['CONST_TYPE'].isin(const_type_selection) &\n",
    "    df['SITE_STATE'].isin(state_selection) &\n",
    "    df['SITE_JURIS'].isin(jurisdiction_selection)\n",
    "]\n"
   ]
  },
  {
   "cell_type": "code",
   "execution_count": 8,
   "metadata": {},
   "outputs": [
    {
     "data": {
      "text/plain": [
       "0       2020-12-09 10:33:17.647\n",
       "1       2021-01-08 17:01:14.713\n",
       "2       2020-12-09 10:26:19.233\n",
       "3       2020-12-09 10:53:11.237\n",
       "4       2021-06-03 07:00:25.727\n",
       "                  ...          \n",
       "513     2021-01-08 15:30:26.210\n",
       "539     2021-01-08 16:01:08.637\n",
       "1432    2020-12-10 06:54:25.550\n",
       "1525    2020-12-10 06:52:32.223\n",
       "36455   2020-12-09 08:56:19.330\n",
       "Name: SITE_GEOCODE_DATE, Length: 189, dtype: datetime64[us]"
      ]
     },
     "execution_count": 8,
     "metadata": {},
     "output_type": "execute_result"
    }
   ],
   "source": [
    "df_selection['SITE_GEOCODE_DATE']"
   ]
  },
  {
   "cell_type": "code",
   "execution_count": 9,
   "metadata": {},
   "outputs": [
    {
     "data": {
      "text/plain": [
       "DeltaGenerator()"
      ]
     },
     "execution_count": 9,
     "metadata": {},
     "output_type": "execute_result"
    }
   ],
   "source": [
    "\n",
    "# Display DataFrame\n",
    "st.dataframe(df_selection)\n",
    "# Filter data based on selections\n",
    "df_selection = df[df.CONST_TYPE.isin(const_type_selection) & df.SITE_STATE.isin(state_selection)]\n",
    "\n",
    "# Display DataFrame\n",
    "st.dataframe(df_selection)\n"
   ]
  },
  {
   "cell_type": "code",
   "execution_count": 10,
   "metadata": {},
   "outputs": [
    {
     "name": "stderr",
     "output_type": "stream",
     "text": [
      "2024-05-31 21:36:08.380 Serialization of dataframe to Arrow table was unsuccessful due to: (\"Could not convert Timestamp('2020-12-21 09:34:25.589895') with type Timestamp: tried to convert to int64\", 'Conversion failed for column SITE_GEOCODE_DATE with type object'). Applying automatic fixes for column types to make the dataframe Arrow-compatible.\n"
     ]
    }
   ],
   "source": [
    "\n",
    "# Summary Statistics\n",
    "st.subheader('Summary Statistics')\n",
    "st.write(df_selection.describe())"
   ]
  },
  {
   "cell_type": "code",
   "execution_count": 11,
   "metadata": {},
   "outputs": [],
   "source": [
    "\n",
    "# Pivot table to aggregate data\n",
    "reshaped_df = df_selection.pivot_table(index='SITE_STATE', columns='CONST_TYPE', values='PERMITID', aggfunc='count', fill_value=0)\n",
    "reshaped_df = reshaped_df.sort_values(by='SITE_STATE', ascending=False)\n"
   ]
  },
  {
   "cell_type": "code",
   "execution_count": 12,
   "metadata": {},
   "outputs": [
    {
     "data": {
      "text/plain": [
       "DeltaGenerator()"
      ]
     },
     "execution_count": 12,
     "metadata": {},
     "output_type": "execute_result"
    }
   ],
   "source": [
    "\n",
    "# Display reshaped DataFrame\n",
    "st.subheader('Aggregated Data by State and Construction Type')\n",
    "st.dataframe(reshaped_df)\n"
   ]
  },
  {
   "cell_type": "code",
   "execution_count": 13,
   "metadata": {},
   "outputs": [],
   "source": [
    "\n",
    "# Prepare data for chart\n",
    "df_chart = reshaped_df.reset_index().melt(id_vars='SITE_STATE', var_name='CONST_TYPE', value_name='COUNT')\n"
   ]
  },
  {
   "cell_type": "code",
   "execution_count": 14,
   "metadata": {},
   "outputs": [
    {
     "ename": "NameError",
     "evalue": "name 'alt' is not defined",
     "output_type": "error",
     "traceback": [
      "\u001b[0;31m---------------------------------------------------------------------------\u001b[0m",
      "\u001b[0;31mNameError\u001b[0m                                 Traceback (most recent call last)",
      "Cell \u001b[0;32mIn[14], line 2\u001b[0m\n\u001b[1;32m      1\u001b[0m \u001b[38;5;66;03m# Display chart\u001b[39;00m\n\u001b[0;32m----> 2\u001b[0m chart \u001b[38;5;241m=\u001b[39m \u001b[43malt\u001b[49m\u001b[38;5;241m.\u001b[39mChart(df_chart)\u001b[38;5;241m.\u001b[39mmark_bar()\u001b[38;5;241m.\u001b[39mencode(\n\u001b[1;32m      3\u001b[0m     x\u001b[38;5;241m=\u001b[39malt\u001b[38;5;241m.\u001b[39mX(\u001b[38;5;124m'\u001b[39m\u001b[38;5;124mSITE_STATE:N\u001b[39m\u001b[38;5;124m'\u001b[39m, title\u001b[38;5;241m=\u001b[39m\u001b[38;5;124m'\u001b[39m\u001b[38;5;124mState\u001b[39m\u001b[38;5;124m'\u001b[39m),\n\u001b[1;32m      4\u001b[0m     y\u001b[38;5;241m=\u001b[39malt\u001b[38;5;241m.\u001b[39mY(\u001b[38;5;124m'\u001b[39m\u001b[38;5;124mCOUNT:Q\u001b[39m\u001b[38;5;124m'\u001b[39m, title\u001b[38;5;241m=\u001b[39m\u001b[38;5;124m'\u001b[39m\u001b[38;5;124mPermit Count\u001b[39m\u001b[38;5;124m'\u001b[39m),\n\u001b[1;32m      5\u001b[0m     color\u001b[38;5;241m=\u001b[39m\u001b[38;5;124m'\u001b[39m\u001b[38;5;124mCONST_TYPE:N\u001b[39m\u001b[38;5;124m'\u001b[39m\n\u001b[1;32m      6\u001b[0m )\u001b[38;5;241m.\u001b[39mproperties(height\u001b[38;5;241m=\u001b[39m\u001b[38;5;241m320\u001b[39m)\n\u001b[1;32m      7\u001b[0m st\u001b[38;5;241m.\u001b[39maltair_chart(chart, use_container_width\u001b[38;5;241m=\u001b[39m\u001b[38;5;28;01mTrue\u001b[39;00m)\n",
      "\u001b[0;31mNameError\u001b[0m: name 'alt' is not defined"
     ]
    }
   ],
   "source": [
    "\n",
    "# Display chart\n",
    "chart = alt.Chart(df_chart).mark_bar().encode(\n",
    "    x=alt.X('SITE_STATE:N', title='State'),\n",
    "    y=alt.Y('COUNT:Q', title='Permit Count'),\n",
    "    color='CONST_TYPE:N'\n",
    ").properties(height=320)\n",
    "st.altair_chart(chart, use_container_width=True)"
   ]
  },
  {
   "cell_type": "code",
   "execution_count": null,
   "metadata": {},
   "outputs": [
    {
     "data": {
      "text/plain": [
       "DeltaGenerator()"
      ]
     },
     "execution_count": 50,
     "metadata": {},
     "output_type": "execute_result"
    }
   ],
   "source": [
    "\n",
    "# Map visualization\n",
    "st.subheader('Permit Locations Map')"
   ]
  },
  {
   "cell_type": "code",
   "execution_count": null,
   "metadata": {},
   "outputs": [],
   "source": [
    "\n",
    "# Clean data for map visualization\n",
    "df_selection_map = df_selection[df_selection['SITE_LAT'].apply(lambda x: str(x).replace('.', '', 1).isdigit())]\n",
    "df_selection_map = df_selection_map[df_selection_map['SITE_LONG'].apply(lambda x: str(x).replace('.', '', 1).lstrip('-').isdigit())]\n",
    "df_selection_map['SITE_LAT1'] = df_selection_map['SITE_LAT'].astype(float)\n",
    "df_selection_map['SITE_LONG1'] = df_selection_map['SITE_LONG'].astype(float)\n"
   ]
  },
  {
   "cell_type": "code",
   "execution_count": null,
   "metadata": {},
   "outputs": [],
   "source": [
    "\n",
    "# Create a Folium map centered on the average latitude and longitude\n",
    "if not df_selection_map.empty:\n",
    "    map_center = [df_selection_map['SITE_LAT1'].mean(), df_selection_map['SITE_LONG1'].mean()]\n",
    "    m = folium.Map(location=map_center, zoom_start=5)\n",
    "\n",
    "    # Add marker cluster to the map\n",
    "    marker_cluster = MarkerCluster().add_to(m)\n",
    "\n",
    "    # Add points to the map\n",
    "    for idx, row in df_selection_map.iterrows():\n",
    "        folium.Marker(\n",
    "            location=[row['SITE_LAT1'], row['SITE_LONG1']],\n",
    "            popup=row['PMT_VALUE']\n",
    "        ).add_to(marker_cluster)\n",
    "\n",
    "    # Call to render Folium map in Streamlit\n",
    "    st_data = st_folium(m, width=800, height=500)\n",
    "\n",
    "    # Display the map\n",
    "    st.write('Permit Locations Map:')\n",
    "    st.write(st_data)\n",
    "else:\n",
    "    st.write(\"No valid coordinates available for mapping.\")"
   ]
  },
  {
   "cell_type": "code",
   "execution_count": null,
   "metadata": {},
   "outputs": [],
   "source": []
  }
 ],
 "metadata": {
  "kernelspec": {
   "display_name": "Python 3",
   "language": "python",
   "name": "python3"
  },
  "language_info": {
   "codemirror_mode": {
    "name": "ipython",
    "version": 3
   },
   "file_extension": ".py",
   "mimetype": "text/x-python",
   "name": "python",
   "nbconvert_exporter": "python",
   "pygments_lexer": "ipython3",
   "version": "3.11.9"
  }
 },
 "nbformat": 4,
 "nbformat_minor": 2
}
