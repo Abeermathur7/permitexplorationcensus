{
 "cells": [
  {
   "cell_type": "code",
   "execution_count": 13,
   "metadata": {},
   "outputs": [],
   "source": [
    "import streamlit as st\n",
    "import pandas as pd\n",
    "import altair as alt\n",
    "import folium\n",
    "from folium.plugins import MarkerCluster\n"
   ]
  },
  {
   "cell_type": "code",
   "execution_count": 14,
   "metadata": {},
   "outputs": [
    {
     "name": "stderr",
     "output_type": "stream",
     "text": [
      "2024-05-30 21:20:20.694 \n",
      "  \u001b[33m\u001b[1mWarning:\u001b[0m to view this Streamlit app on a browser, run it with the following\n",
      "  command:\n",
      "\n",
      "    streamlit run /home/vscode/.local/lib/python3.11/site-packages/ipykernel_launcher.py [ARGUMENTS]\n"
     ]
    }
   ],
   "source": [
    "\n",
    "# Page title\n",
    "st.set_page_config(page_title='Permit Data Exploration', page_icon='📊')\n",
    "st.title('📊 Permit Data Exploration')\n",
    "\n",
    "with st.expander('About this app'):\n",
    "    st.markdown('**What can this app do?**')\n",
    "    st.info('Interact with the permit dataset/Parquet files and explore each column.')\n",
    "    st.markdown('**How to use the app?**')\n",
    "    st.warning('This is a prototype, functionality will be added as we develop further.')\n",
    "\n",
    "st.subheader('Explore Permit Data by Construction Type and State')\n",
    "\n",
    "# Load data\n",
    "df50 = pd.read_parquet('data/csv_reveal-gc-2020-50.parquet')\n",
    "\n",
    "# Input widgets\n",
    "## Construction Type selection\n",
    "const_type_list = df50.CONST_TYPE.unique()\n",
    "const_type_selection = st.multiselect('Select Construction Types', const_type_list, const_type_list[:3])\n",
    "\n",
    "## State selection\n",
    "state_list = df50.SITE_STATE.unique()\n",
    "state_selection = st.multiselect('Select States', state_list, state_list[:3])\n"
   ]
  },
  {
   "cell_type": "code",
   "execution_count": 22,
   "metadata": {},
   "outputs": [
    {
     "data": {
      "text/plain": [
       "DeltaGenerator()"
      ]
     },
     "execution_count": 22,
     "metadata": {},
     "output_type": "execute_result"
    }
   ],
   "source": [
    "\n",
    "# Filter data based on selections\n",
    "df_selection = df50[df50.CONST_TYPE.isin(const_type_selection) & df50.SITE_STATE.isin(state_selection)]\n",
    "\n",
    "# Display DataFrame\n",
    "st.dataframe(df_selection)\n",
    "\n",
    "# Pivot table to aggregate data\n",
    "reshaped_df = df_selection.pivot_table(index='SITE_STATE', columns='CONST_TYPE', values='PERMITID', aggfunc='count', fill_value=0)\n",
    "reshaped_df = reshaped_df.sort_values(by='SITE_STATE', ascending=False)\n",
    "\n",
    "# Display reshaped DataFrame\n",
    "st.subheader('Aggregated Data by State and Construction Type')\n",
    "st.dataframe(reshaped_df)\n",
    "\n",
    "# Prepare data for chart\n",
    "df_chart = reshaped_df.reset_index().melt(id_vars='SITE_STATE', var_name='CONST_TYPE', value_name='COUNT')\n",
    "\n",
    "# Display chart\n",
    "chart = alt.Chart(df_chart).mark_bar().encode(\n",
    "            x=alt.X('SITE_STATE:N', title='State'),\n",
    "            y=alt.Y('COUNT:Q', title='Permit Count'),\n",
    "            color='CONST_TYPE:N'\n",
    "            ).properties(height=320)\n",
    "st.altair_chart(chart, use_container_width=True)\n"
   ]
  },
  {
   "cell_type": "code",
   "execution_count": 23,
   "metadata": {},
   "outputs": [
    {
     "name": "stdout",
     "output_type": "stream",
     "text": [
      "Index(['PERMITID', 'PRJ_STATUS', 'CONST_TYPE', 'SITE_AREA', 'SITE_STATE',\n",
      "       'SITE_CNTY', 'SITE_JURIS', 'SITE_CITY', 'SITE_ZIP', 'SITE_ADDRS',\n",
      "       'SITE_COOR1', 'SITE_DIR1', 'SITE_STNAM', 'SITE_STTYP', 'SITE_COOR2',\n",
      "       'SITE_DIR2', 'SITE_LOT', 'SITE_SUBD', 'SITE_SUBNO', 'SITE_SIDWL',\n",
      "       'PMT_DESCRP', 'PMT_CLASS', 'PMT_SQFT', 'PMT_NUMBER', 'PMT_DATE',\n",
      "       'PMT_WEEK', 'CREATEDATE', 'PMT_VALUE', 'BLDR_TYPE', 'BLDR_CMPNY',\n",
      "       'BLDR_LCSE', 'BLDR_COTEL', 'BLDR_FAX', 'BLDR_FIRST', 'BLDR_LAST',\n",
      "       'BLDR_PVTEL', 'BLDR_ST', 'BLDR_POBOX', 'BLDR_CITY', 'BLDR_STATE',\n",
      "       'BLDR_ZIP', 'OWNR_TYPE', 'OWNR_CMPNY', 'OWNR_COTEL', 'OWNR_FAX',\n",
      "       'OWNR_FIRST', 'OWNR_LAST', 'OWNR_PVTEL', 'OWNR_ST', 'OWNR_POBOX',\n",
      "       'OWNR_CITY', 'OWNR_STATE', 'OWNR_ZIP', 'DSGR_TYPE', 'DSGR_CMPNY',\n",
      "       'DSGR_COTEL', 'DSGR_FAX', 'DSGR_FIRST', 'DSGR_LAST', 'DSGR_PVTEL',\n",
      "       'DSGR_ST', 'DSGR_POBOX', 'DSGR_CITY', 'DSGR_STATE', 'DSGR_ZIP',\n",
      "       'DSGR_EMAIL', 'DSGR_WEB', 'PMT_UNITS', 'BLDR_EMAIL', 'BLDR_WEB',\n",
      "       'SITE_LAT', 'SITE_LONG', 'SITE_LATLONG_PRECISION', 'SITE_GEOCODE_DATE',\n",
      "       'SOLAR_POWERSIZE', 'SOLAR_POWERUNIT', 'IMAGEID', 'DOCPARSERID',\n",
      "       'EXTRACTED_DESCRIPTION', 'EXTRACTED_NUMBER', 'EXTRACTED_VALUATION',\n",
      "       'EXTRACTED_UNITS', 'EXTRACTED_NUMBER_OF_BUILDINGS', 'EXTRACTED_STATUS',\n",
      "       'IMPUTE_UNITS_FLAG', 'IMPUTE_VALUATION_FLAG'],\n",
      "      dtype='object')\n"
     ]
    }
   ],
   "source": [
    "\n",
    "\n",
    "print(df_selection.columns)"
   ]
  },
  {
   "cell_type": "code",
   "execution_count": 17,
   "metadata": {},
   "outputs": [
    {
     "data": {
      "text/plain": [
       "DeltaGenerator()"
      ]
     },
     "execution_count": 17,
     "metadata": {},
     "output_type": "execute_result"
    }
   ],
   "source": [
    "\n",
    "# Map visualization\n",
    "st.subheader('Permit Locations Map')\n",
    "\n",
    "# Clean data for map visualization\n",
    "df_selection = df_selection.dropna(subset=['SITE_LAT', 'SITE_LONG'])\n",
    "\n",
    "df_selection = df_selection[df_selection['SITE_LAT'].apply(lambda x: str(x).replace('.', '', 1).isdigit())]\n",
    "\n",
    "df_selection = df_selection[df_selection['SITE_LONG'].apply(lambda x: str(x).replace('.', '', 1).isdigit())]\n",
    "\n",
    "df_selection['SITE_LAT1'] = df_selection['SITE_LAT'].astype(float)\n",
    "\n",
    "df_selection['SITE_LONG1'] = df_selection['SITE_LONG'].astype(float)\n",
    "\n",
    "\n",
    "# # Create a map centered on the average latitude and longitude\n",
    "if not df_selection.empty:\n",
    "    map_center = [df_selection['SITE_LAT1'].mean(), df_selection['SITE_LONG1'].mean()]\n",
    "    m = folium.Map(location=map_center, zoom_start=5)\n",
    "\n",
    "    # Add marker cluster to the map\n",
    "    marker_cluster = MarkerCluster().add_to(m)\n",
    "\n",
    "    # Add points to the map\n",
    "    for idx, row in df_selection.iterrows():\n",
    "        folium.Marker(\n",
    "            location=[row['SITE_LAT'], row['SITE_LONG1']],\n",
    "            popup=row['SITE_ADDRS']\n",
    "        ).add_to(marker_cluster)\n",
    "\n",
    "    # Save the map as an HTML file\n",
    "    map_path = 'map.html'\n",
    "    m.save(map_path)\n",
    "\n",
    "    # Display the map in Streamlit\n",
    "    with open(map_path, 'r') as f:\n",
    "        html_map = f.read()\n",
    "    st.components.v1.html(html_map, width=700, height=500)\n",
    "else:\n",
    "    st.write(\"No valid coordinates available for mapping.\")\n",
    "\n",
    "# Optional: Add more charts and statistics if necessary\n",
    "# Example: Construction Type Distribution\n",
    "st.subheader('Construction Type Distribution')\n",
    "const_type_dist = df_selection['CONST_TYPE'].value_counts().reset_index()\n",
    "const_type_dist.columns = ['CONST_TYPE', 'COUNT']\n",
    "\n",
    "chart2 = alt.Chart(const_type_dist).mark_bar().encode(\n",
    "    x=alt.X('CONST_TYPE:N', title='Construction Type'),\n",
    "    y=alt.Y('COUNT:Q', title='Count'),\n",
    "    color='CONST_TYPE:N'\n",
    ").properties(height=320)\n",
    "st.altair_chart(chart2, use_container_width=True)\n"
   ]
  },
  {
   "cell_type": "code",
   "execution_count": 18,
   "metadata": {},
   "outputs": [
    {
     "name": "stdout",
     "output_type": "stream",
     "text": [
      "Empty DataFrame\n",
      "Columns: [PERMITID, PRJ_STATUS, CONST_TYPE, SITE_AREA, SITE_STATE, SITE_CNTY, SITE_JURIS, SITE_CITY, SITE_ZIP, SITE_ADDRS, SITE_COOR1, SITE_DIR1, SITE_STNAM, SITE_STTYP, SITE_COOR2, SITE_DIR2, SITE_LOT, SITE_SUBD, SITE_SUBNO, SITE_SIDWL, PMT_DESCRP, PMT_CLASS, PMT_SQFT, PMT_NUMBER, PMT_DATE, PMT_WEEK, CREATEDATE, PMT_VALUE, BLDR_TYPE, BLDR_CMPNY, BLDR_LCSE, BLDR_COTEL, BLDR_FAX, BLDR_FIRST, BLDR_LAST, BLDR_PVTEL, BLDR_ST, BLDR_POBOX, BLDR_CITY, BLDR_STATE, BLDR_ZIP, OWNR_TYPE, OWNR_CMPNY, OWNR_COTEL, OWNR_FAX, OWNR_FIRST, OWNR_LAST, OWNR_PVTEL, OWNR_ST, OWNR_POBOX, OWNR_CITY, OWNR_STATE, OWNR_ZIP, DSGR_TYPE, DSGR_CMPNY, DSGR_COTEL, DSGR_FAX, DSGR_FIRST, DSGR_LAST, DSGR_PVTEL, DSGR_ST, DSGR_POBOX, DSGR_CITY, DSGR_STATE, DSGR_ZIP, DSGR_EMAIL, DSGR_WEB, PMT_UNITS, BLDR_EMAIL, BLDR_WEB, SITE_LAT, SITE_LONG, SITE_LATLONG_PRECISION, SITE_GEOCODE_DATE, SOLAR_POWERSIZE, SOLAR_POWERUNIT, IMAGEID, DOCPARSERID, EXTRACTED_DESCRIPTION, EXTRACTED_NUMBER, EXTRACTED_VALUATION, EXTRACTED_UNITS, EXTRACTED_NUMBER_OF_BUILDINGS, EXTRACTED_STATUS, IMPUTE_UNITS_FLAG, IMPUTE_VALUATION_FLAG, SITE_LAT1, SITE_LONG1]\n",
      "Index: []\n",
      "\n",
      "[0 rows x 88 columns]\n"
     ]
    }
   ],
   "source": [
    "\n",
    "print(df_selection)"
   ]
  },
  {
   "cell_type": "code",
   "execution_count": null,
   "metadata": {},
   "outputs": [],
   "source": []
  },
  {
   "cell_type": "code",
   "execution_count": 19,
   "metadata": {},
   "outputs": [
    {
     "name": "stdout",
     "output_type": "stream",
     "text": [
      "Empty DataFrame\n",
      "Columns: []\n",
      "Index: []\n"
     ]
    }
   ],
   "source": [
    "df_selection = df_selection[df_selection['SITE_LAT'].apply(lambda x: str(x).replace('.', '', 1).isdigit())]\n",
    "print(df_selection)"
   ]
  },
  {
   "cell_type": "code",
   "execution_count": 20,
   "metadata": {},
   "outputs": [
    {
     "ename": "KeyError",
     "evalue": "'SITE_LONG'",
     "output_type": "error",
     "traceback": [
      "\u001b[0;31m---------------------------------------------------------------------------\u001b[0m",
      "\u001b[0;31mKeyError\u001b[0m                                  Traceback (most recent call last)",
      "File \u001b[0;32m~/.local/lib/python3.11/site-packages/pandas/core/indexes/base.py:3805\u001b[0m, in \u001b[0;36mIndex.get_loc\u001b[0;34m(self, key)\u001b[0m\n\u001b[1;32m   3804\u001b[0m \u001b[38;5;28;01mtry\u001b[39;00m:\n\u001b[0;32m-> 3805\u001b[0m     \u001b[38;5;28;01mreturn\u001b[39;00m \u001b[38;5;28;43mself\u001b[39;49m\u001b[38;5;241;43m.\u001b[39;49m\u001b[43m_engine\u001b[49m\u001b[38;5;241;43m.\u001b[39;49m\u001b[43mget_loc\u001b[49m\u001b[43m(\u001b[49m\u001b[43mcasted_key\u001b[49m\u001b[43m)\u001b[49m\n\u001b[1;32m   3806\u001b[0m \u001b[38;5;28;01mexcept\u001b[39;00m \u001b[38;5;167;01mKeyError\u001b[39;00m \u001b[38;5;28;01mas\u001b[39;00m err:\n",
      "File \u001b[0;32mindex.pyx:167\u001b[0m, in \u001b[0;36mpandas._libs.index.IndexEngine.get_loc\u001b[0;34m()\u001b[0m\n",
      "File \u001b[0;32mindex.pyx:196\u001b[0m, in \u001b[0;36mpandas._libs.index.IndexEngine.get_loc\u001b[0;34m()\u001b[0m\n",
      "File \u001b[0;32mpandas/_libs/hashtable_class_helper.pxi:7081\u001b[0m, in \u001b[0;36mpandas._libs.hashtable.PyObjectHashTable.get_item\u001b[0;34m()\u001b[0m\n",
      "File \u001b[0;32mpandas/_libs/hashtable_class_helper.pxi:7089\u001b[0m, in \u001b[0;36mpandas._libs.hashtable.PyObjectHashTable.get_item\u001b[0;34m()\u001b[0m\n",
      "\u001b[0;31mKeyError\u001b[0m: 'SITE_LONG'",
      "\nThe above exception was the direct cause of the following exception:\n",
      "\u001b[0;31mKeyError\u001b[0m                                  Traceback (most recent call last)",
      "Cell \u001b[0;32mIn[20], line 1\u001b[0m\n\u001b[0;32m----> 1\u001b[0m s \u001b[38;5;241m=\u001b[39m \u001b[43mdf_selection\u001b[49m\u001b[43m[\u001b[49m\u001b[38;5;124;43m'\u001b[39;49m\u001b[38;5;124;43mSITE_LONG\u001b[39;49m\u001b[38;5;124;43m'\u001b[39;49m\u001b[43m]\u001b[49m[\u001b[38;5;241m0\u001b[39m]\n\u001b[1;32m      2\u001b[0m s\u001b[38;5;241m.\u001b[39mastype(\u001b[38;5;28mstr\u001b[39m)\u001b[38;5;241m.\u001b[39mreplace(\u001b[38;5;124m'\u001b[39m\u001b[38;5;124m.\u001b[39m\u001b[38;5;124m'\u001b[39m, \u001b[38;5;124m'\u001b[39m\u001b[38;5;124m'\u001b[39m, \u001b[38;5;241m1\u001b[39m)\u001b[38;5;241m.\u001b[39mlstrip(\u001b[38;5;124m'\u001b[39m\u001b[38;5;124m-\u001b[39m\u001b[38;5;124m'\u001b[39m)\u001b[38;5;241m.\u001b[39misdigit()\n",
      "File \u001b[0;32m~/.local/lib/python3.11/site-packages/pandas/core/frame.py:4102\u001b[0m, in \u001b[0;36mDataFrame.__getitem__\u001b[0;34m(self, key)\u001b[0m\n\u001b[1;32m   4100\u001b[0m \u001b[38;5;28;01mif\u001b[39;00m \u001b[38;5;28mself\u001b[39m\u001b[38;5;241m.\u001b[39mcolumns\u001b[38;5;241m.\u001b[39mnlevels \u001b[38;5;241m>\u001b[39m \u001b[38;5;241m1\u001b[39m:\n\u001b[1;32m   4101\u001b[0m     \u001b[38;5;28;01mreturn\u001b[39;00m \u001b[38;5;28mself\u001b[39m\u001b[38;5;241m.\u001b[39m_getitem_multilevel(key)\n\u001b[0;32m-> 4102\u001b[0m indexer \u001b[38;5;241m=\u001b[39m \u001b[38;5;28;43mself\u001b[39;49m\u001b[38;5;241;43m.\u001b[39;49m\u001b[43mcolumns\u001b[49m\u001b[38;5;241;43m.\u001b[39;49m\u001b[43mget_loc\u001b[49m\u001b[43m(\u001b[49m\u001b[43mkey\u001b[49m\u001b[43m)\u001b[49m\n\u001b[1;32m   4103\u001b[0m \u001b[38;5;28;01mif\u001b[39;00m is_integer(indexer):\n\u001b[1;32m   4104\u001b[0m     indexer \u001b[38;5;241m=\u001b[39m [indexer]\n",
      "File \u001b[0;32m~/.local/lib/python3.11/site-packages/pandas/core/indexes/base.py:3812\u001b[0m, in \u001b[0;36mIndex.get_loc\u001b[0;34m(self, key)\u001b[0m\n\u001b[1;32m   3807\u001b[0m     \u001b[38;5;28;01mif\u001b[39;00m \u001b[38;5;28misinstance\u001b[39m(casted_key, \u001b[38;5;28mslice\u001b[39m) \u001b[38;5;129;01mor\u001b[39;00m (\n\u001b[1;32m   3808\u001b[0m         \u001b[38;5;28misinstance\u001b[39m(casted_key, abc\u001b[38;5;241m.\u001b[39mIterable)\n\u001b[1;32m   3809\u001b[0m         \u001b[38;5;129;01mand\u001b[39;00m \u001b[38;5;28many\u001b[39m(\u001b[38;5;28misinstance\u001b[39m(x, \u001b[38;5;28mslice\u001b[39m) \u001b[38;5;28;01mfor\u001b[39;00m x \u001b[38;5;129;01min\u001b[39;00m casted_key)\n\u001b[1;32m   3810\u001b[0m     ):\n\u001b[1;32m   3811\u001b[0m         \u001b[38;5;28;01mraise\u001b[39;00m InvalidIndexError(key)\n\u001b[0;32m-> 3812\u001b[0m     \u001b[38;5;28;01mraise\u001b[39;00m \u001b[38;5;167;01mKeyError\u001b[39;00m(key) \u001b[38;5;28;01mfrom\u001b[39;00m \u001b[38;5;21;01merr\u001b[39;00m\n\u001b[1;32m   3813\u001b[0m \u001b[38;5;28;01mexcept\u001b[39;00m \u001b[38;5;167;01mTypeError\u001b[39;00m:\n\u001b[1;32m   3814\u001b[0m     \u001b[38;5;66;03m# If we have a listlike key, _check_indexing_error will raise\u001b[39;00m\n\u001b[1;32m   3815\u001b[0m     \u001b[38;5;66;03m#  InvalidIndexError. Otherwise we fall through and re-raise\u001b[39;00m\n\u001b[1;32m   3816\u001b[0m     \u001b[38;5;66;03m#  the TypeError.\u001b[39;00m\n\u001b[1;32m   3817\u001b[0m     \u001b[38;5;28mself\u001b[39m\u001b[38;5;241m.\u001b[39m_check_indexing_error(key)\n",
      "\u001b[0;31mKeyError\u001b[0m: 'SITE_LONG'"
     ]
    }
   ],
   "source": [
    "s = df_selection['SITE_LONG'][0]\n",
    "s.astype(str).replace('.', '', 1).lstrip('-').isdigit()"
   ]
  },
  {
   "cell_type": "code",
   "execution_count": null,
   "metadata": {},
   "outputs": [
    {
     "ename": "NameError",
     "evalue": "name 'df_selection' is not defined",
     "output_type": "error",
     "traceback": [
      "\u001b[0;31m---------------------------------------------------------------------------\u001b[0m",
      "\u001b[0;31mNameError\u001b[0m                                 Traceback (most recent call last)",
      "Cell \u001b[0;32mIn[6], line 1\u001b[0m\n\u001b[0;32m----> 1\u001b[0m df_selection \u001b[38;5;241m=\u001b[39m \u001b[43mdf_selection\u001b[49m[df_selection[\u001b[38;5;124m'\u001b[39m\u001b[38;5;124mSITE_LONG\u001b[39m\u001b[38;5;124m'\u001b[39m]\u001b[38;5;241m.\u001b[39mapply(\u001b[38;5;28;01mlambda\u001b[39;00m x: \u001b[38;5;28mstr\u001b[39m(x)\u001b[38;5;241m.\u001b[39mreplace(\u001b[38;5;124m'\u001b[39m\u001b[38;5;124m.\u001b[39m\u001b[38;5;124m'\u001b[39m, \u001b[38;5;124m'\u001b[39m\u001b[38;5;124m'\u001b[39m, \u001b[38;5;241m1\u001b[39m)\u001b[38;5;241m.\u001b[39mlstrip(\u001b[38;5;124m'\u001b[39m\u001b[38;5;124m-\u001b[39m\u001b[38;5;124m'\u001b[39m)\u001b[38;5;241m.\u001b[39misdigit())]\n\u001b[1;32m      2\u001b[0m \u001b[38;5;28mprint\u001b[39m(df_selection)\n",
      "\u001b[0;31mNameError\u001b[0m: name 'df_selection' is not defined"
     ]
    }
   ],
   "source": [
    "df_selection = df_selection[df_selection['SITE_LONG'].apply(lambda x: str(x).replace('.', '', 1).lstrip('-').isdigit())]\n",
    "print(df_selection)"
   ]
  },
  {
   "cell_type": "code",
   "execution_count": null,
   "metadata": {},
   "outputs": [
    {
     "ename": "NameError",
     "evalue": "name 'df_selection' is not defined",
     "output_type": "error",
     "traceback": [
      "\u001b[0;31m---------------------------------------------------------------------------\u001b[0m",
      "\u001b[0;31mNameError\u001b[0m                                 Traceback (most recent call last)",
      "Cell \u001b[0;32mIn[5], line 1\u001b[0m\n\u001b[0;32m----> 1\u001b[0m df_selection[\u001b[38;5;124m'\u001b[39m\u001b[38;5;124mSITE_LAT1\u001b[39m\u001b[38;5;124m'\u001b[39m] \u001b[38;5;241m=\u001b[39m \u001b[43mdf_selection\u001b[49m[\u001b[38;5;124m'\u001b[39m\u001b[38;5;124mSITE_LAT\u001b[39m\u001b[38;5;124m'\u001b[39m]\u001b[38;5;241m.\u001b[39mastype(\u001b[38;5;28mfloat\u001b[39m)\n\u001b[1;32m      2\u001b[0m \u001b[38;5;28mprint\u001b[39m(df_selection\u001b[38;5;241m.\u001b[39mcolumns())\n",
      "\u001b[0;31mNameError\u001b[0m: name 'df_selection' is not defined"
     ]
    }
   ],
   "source": [
    "df_selection['SITE_LAT1'] = df_selection['SITE_LAT'].astype(float)\n",
    "print(df_selection.columns())\n"
   ]
  },
  {
   "cell_type": "code",
   "execution_count": null,
   "metadata": {},
   "outputs": [
    {
     "name": "stdout",
     "output_type": "stream",
     "text": [
      "       PERMITID       PRJ_STATUS                      CONST_TYPE  \\\n",
      "0      17855172  Approved Permit         Res Rmdl, Addn, Int Fin   \n",
      "1      17858630  Approved Permit             Single Family Homes   \n",
      "2      17855104  Approved Permit         Res Rmdl, Addn, Int Fin   \n",
      "3      17855372  Approved Permit  Alternative Residential Energy   \n",
      "4      17824051  Approved Permit         Res Rmdl, Addn, Int Fin   \n",
      "...         ...              ...                             ...   \n",
      "46204  17836441  Approved Permit  Alternative Residential Energy   \n",
      "46211  17826013  Approved Permit  Alternative Residential Energy   \n",
      "46214  17849863  Approved Permit  Alternative Residential Energy   \n",
      "46221  17864971  Approved Permit  Alternative Residential Energy   \n",
      "46231  17826992  Approved Permit  Alternative Residential Energy   \n",
      "\n",
      "                    SITE_AREA SITE_STATE            SITE_CNTY  \\\n",
      "0                 Connecticut         CT     Fairfield County   \n",
      "1               Orange County         CA        Orange County   \n",
      "2                 Connecticut         CT     Fairfield County   \n",
      "3                 Connecticut         CT     Fairfield County   \n",
      "4                South Dakota         SD      Lawrence County   \n",
      "...                       ...        ...                  ...   \n",
      "46204  San Francisco East Bay         CA  Contra Costa County   \n",
      "46211       Sacramento Valley         CA     El Dorado County   \n",
      "46214  San Francisco West Bay         CA     San Mateo County   \n",
      "46221        San Diego County         CA     San Diego County   \n",
      "46231          Ventura County         CA       Ventura County   \n",
      "\n",
      "             SITE_JURIS      SITE_CITY    SITE_ZIP           SITE_ADDRS  ...  \\\n",
      "0            Bridgeport     Bridgeport  06606-1042         81 Waller Rd  ...   \n",
      "1                Irvine         Irvine  92618-1334        107 Landroute  ...   \n",
      "2            Bridgeport     Bridgeport  06606-5419          111 Gem Ave  ...   \n",
      "3            Bridgeport     Bridgeport  06610-1725           66 Rose St  ...   \n",
      "4       Lawrence County           Lead  57754-3754       20687 Roman Rd  ...   \n",
      "...                 ...            ...         ...                  ...  ...   \n",
      "46204         San Ramon      San Ramon  94583-2951       9798 Davona Dr  ...   \n",
      "46211  El Dorado County           Cool  95614-9582    2861 Gillespie Rd  ...   \n",
      "46214         San Mateo      San Mateo  94402-3027          1733 Gum St  ...   \n",
      "46221             Poway          Poway  92064-5227  13417 Whitewater Dr  ...   \n",
      "46231     Thousand Oaks  Thousand Oaks  91360-5437       602 Switzar Ln  ...   \n",
      "\n",
      "                                   EXTRACTED_DESCRIPTION EXTRACTED_NUMBER  \\\n",
      "0      Add 2nd bathroom, add laundry room, add 4th be...          -333777   \n",
      "1      (E-PLAN) Montara Phase 13 Portola Springs. Tra...     00824568-RBP   \n",
      "2      Siding, Windows, Bath & Kitchen Remodel, New H...          -370746   \n",
      "3          Roof reinforcing for solar panel installation          -555113   \n",
      "4      640'RES,340'LOFT,96'DECKHOLES ONLY TILL TRUSS ...         00008862   \n",
      "...                                                  ...              ...   \n",
      "46204                                                                       \n",
      "46211                                                                       \n",
      "46214                                                                       \n",
      "46221                                                                       \n",
      "46231                                                                       \n",
      "\n",
      "      EXTRACTED_VALUATION  EXTRACTED_UNITS  EXTRACTED_NUMBER_OF_BUILDINGS  \\\n",
      "0                   50000                                             NaN   \n",
      "1                                                                     NaN   \n",
      "2                    9500                                             NaN   \n",
      "3                    5000                                             NaN   \n",
      "4                                                                     NaN   \n",
      "...                   ...              ...                            ...   \n",
      "46204                                                                 NaN   \n",
      "46211                                                                 NaN   \n",
      "46214                                                                 NaN   \n",
      "46221                                                                 NaN   \n",
      "46231                                                                 NaN   \n",
      "\n",
      "       EXTRACTED_STATUS     IMPUTE_UNITS_FLAG IMPUTE_VALUATION_FLAG SITE_LAT1  \\\n",
      "0      Need-Info  -jg/m                     B                     D  41.22579   \n",
      "1                issued  A-Single Family Home                     B  33.69063   \n",
      "2      NEED INFO  -jg/m                     B                     D  41.19443   \n",
      "3                  jg/m   A-No Dwelling Units                     D  41.20255   \n",
      "4                                           B                     B  44.33264   \n",
      "...                 ...                   ...                   ...       ...   \n",
      "46204                     A-No Dwelling Units                     B  37.74350   \n",
      "46211                     A-No Dwelling Units               A-Solar  38.87181   \n",
      "46214                     A-No Dwelling Units                     B  37.55343   \n",
      "46221                     A-No Dwelling Units               A-Solar  32.95883   \n",
      "46231                     A-No Dwelling Units                     B  34.18712   \n",
      "\n",
      "      SITE_LONG1  \n",
      "0      -73.24088  \n",
      "1     -117.70920  \n",
      "2      -73.19645  \n",
      "3      -73.18209  \n",
      "4     -103.81860  \n",
      "...          ...  \n",
      "46204 -121.95281  \n",
      "46211 -121.01747  \n",
      "46214 -122.31171  \n",
      "46221 -117.01027  \n",
      "46231 -118.86613  \n",
      "\n",
      "[7624 rows x 88 columns]\n"
     ]
    }
   ],
   "source": [
    "df_selection[] = df_selection['SITE_LONG'].astype(float)\n",
    "print(df_selection)"
   ]
  },
  {
   "cell_type": "code",
   "execution_count": null,
   "metadata": {},
   "outputs": [
    {
     "ename": "NameError",
     "evalue": "name 'df_selection_map' is not defined",
     "output_type": "error",
     "traceback": [
      "\u001b[0;31m---------------------------------------------------------------------------\u001b[0m",
      "\u001b[0;31mNameError\u001b[0m                                 Traceback (most recent call last)",
      "Cell \u001b[0;32mIn[1], line 1\u001b[0m\n\u001b[0;32m----> 1\u001b[0m \u001b[38;5;28mprint\u001b[39m(\u001b[43mdf_selection_map\u001b[49m)\n",
      "\u001b[0;31mNameError\u001b[0m: name 'df_selection_map' is not defined"
     ]
    }
   ],
   "source": [
    "print(df_selection_map)"
   ]
  },
  {
   "cell_type": "code",
   "execution_count": null,
   "metadata": {},
   "outputs": [],
   "source": []
  }
 ],
 "metadata": {
  "kernelspec": {
   "display_name": "Python 3",
   "language": "python",
   "name": "python3"
  },
  "language_info": {
   "codemirror_mode": {
    "name": "ipython",
    "version": 3
   },
   "file_extension": ".py",
   "mimetype": "text/x-python",
   "name": "python",
   "nbconvert_exporter": "python",
   "pygments_lexer": "ipython3",
   "version": "3.11.9"
  }
 },
 "nbformat": 4,
 "nbformat_minor": 2
}
