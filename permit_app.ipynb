{
 "cells": [
  {
   "cell_type": "code",
   "execution_count": 2,
   "metadata": {},
   "outputs": [],
   "source": [
    "import streamlit as st\n",
    "import pandas as pd\n",
    "import folium\n",
    "from folium.plugins import MarkerCluster, HeatMap\n",
    "from streamlit_folium import st_folium"
   ]
  },
  {
   "cell_type": "code",
   "execution_count": 3,
   "metadata": {},
   "outputs": [
    {
     "name": "stderr",
     "output_type": "stream",
     "text": [
      "2024-05-31 21:22:52.755 \n",
      "  \u001b[33m\u001b[1mWarning:\u001b[0m to view this Streamlit app on a browser, run it with the following\n",
      "  command:\n",
      "\n",
      "    streamlit run /home/vscode/.local/lib/python3.11/site-packages/ipykernel_launcher.py [ARGUMENTS]\n"
     ]
    },
    {
     "data": {
      "text/plain": [
       "DeltaGenerator()"
      ]
     },
     "execution_count": 3,
     "metadata": {},
     "output_type": "execute_result"
    }
   ],
   "source": [
    "\n",
    "\n",
    "\n",
    "# Page title\n",
    "st.set_page_config(page_title='Permit Data Exploration', page_icon='📊')\n",
    "st.title('📊 Permit Data Exploration')\n",
    "\n",
    "with st.expander('About this app'):\n",
    "    st.markdown('**What can this app do?**')\n",
    "    st.info('Interact with the permit dataset/Parquet files and explore each column.')\n",
    "    st.markdown('**How to use the app?**')\n",
    "    st.warning('This is a prototype, functionality will be added as we develop further.')\n",
    "\n",
    "st.subheader('Explore Permit Data by Construction Type and State')"
   ]
  },
  {
   "cell_type": "code",
   "execution_count": 4,
   "metadata": {},
   "outputs": [],
   "source": [
    "\n",
    "# File upload\n",
    "uploaded_file = st.file_uploader(\"Upload your Parquet file\", type=['parquet'])\n",
    "\n",
    "if uploaded_file is not None:\n",
    "    df = pd.read_parquet(uploaded_file)\n",
    "else:\n",
    "    df = pd.read_parquet('data/csv_reveal-gc-2020-50.parquet')"
   ]
  },
  {
   "cell_type": "code",
   "execution_count": 5,
   "metadata": {},
   "outputs": [],
   "source": [
    "\n",
    "# Input widgets\n",
    "## Construction Type selection\n",
    "const_type_list = df.CONST_TYPE.unique()\n",
    "const_type_selection = st.multiselect('Select Construction Types', const_type_list, const_type_list[:3])\n"
   ]
  },
  {
   "cell_type": "code",
   "execution_count": 6,
   "metadata": {},
   "outputs": [],
   "source": [
    "\n",
    "## State selection\n",
    "state_list = df.SITE_STATE.unique()\n",
    "state_selection = st.multiselect('Select States', state_list, state_list[:3])\n",
    "\n",
    "jurisdiction_list = df['SITE_JURIS'].unique().tolist()\n",
    "jurisdiction_selection = st.multiselect('Select Jurisdictions', jurisdiction_list, jurisdiction_list[:3])\n"
   ]
  },
  {
   "cell_type": "code",
   "execution_count": 7,
   "metadata": {},
   "outputs": [],
   "source": [
    "\n",
    "# Filter data based on selections\n",
    "df_selection = df[\n",
    "    df['CONST_TYPE'].isin(const_type_selection) &\n",
    "    df['SITE_STATE'].isin(state_selection) &\n",
    "    df['SITE_JURIS'].isin(jurisdiction_selection)\n",
    "]\n"
   ]
  },
  {
   "cell_type": "code",
   "execution_count": 17,
   "metadata": {},
   "outputs": [
    {
     "data": {
      "text/html": [
       "<div>\n",
       "<style scoped>\n",
       "    .dataframe tbody tr th:only-of-type {\n",
       "        vertical-align: middle;\n",
       "    }\n",
       "\n",
       "    .dataframe tbody tr th {\n",
       "        vertical-align: top;\n",
       "    }\n",
       "\n",
       "    .dataframe thead th {\n",
       "        text-align: right;\n",
       "    }\n",
       "</style>\n",
       "<table border=\"1\" class=\"dataframe\">\n",
       "  <thead>\n",
       "    <tr style=\"text-align: right;\">\n",
       "      <th></th>\n",
       "      <th>PERMITID</th>\n",
       "      <th>PRJ_STATUS</th>\n",
       "      <th>CONST_TYPE</th>\n",
       "      <th>SITE_AREA</th>\n",
       "      <th>SITE_STATE</th>\n",
       "      <th>SITE_CNTY</th>\n",
       "      <th>SITE_JURIS</th>\n",
       "      <th>SITE_CITY</th>\n",
       "      <th>SITE_ZIP</th>\n",
       "      <th>SITE_ADDRS</th>\n",
       "      <th>...</th>\n",
       "      <th>IMAGEID</th>\n",
       "      <th>DOCPARSERID</th>\n",
       "      <th>EXTRACTED_DESCRIPTION</th>\n",
       "      <th>EXTRACTED_NUMBER</th>\n",
       "      <th>EXTRACTED_VALUATION</th>\n",
       "      <th>EXTRACTED_UNITS</th>\n",
       "      <th>EXTRACTED_NUMBER_OF_BUILDINGS</th>\n",
       "      <th>EXTRACTED_STATUS</th>\n",
       "      <th>IMPUTE_UNITS_FLAG</th>\n",
       "      <th>IMPUTE_VALUATION_FLAG</th>\n",
       "    </tr>\n",
       "  </thead>\n",
       "  <tbody>\n",
       "    <tr>\n",
       "      <th>0</th>\n",
       "      <td>17855172</td>\n",
       "      <td>Approved Permit</td>\n",
       "      <td>Res Rmdl, Addn, Int Fin</td>\n",
       "      <td>Connecticut</td>\n",
       "      <td>CT</td>\n",
       "      <td>Fairfield County</td>\n",
       "      <td>Bridgeport</td>\n",
       "      <td>Bridgeport</td>\n",
       "      <td>06606-1042</td>\n",
       "      <td>81 Waller Rd</td>\n",
       "      <td>...</td>\n",
       "      <td>9804939.0</td>\n",
       "      <td>quadParserPseudoImage</td>\n",
       "      <td>Add 2nd bathroom, add laundry room, add 4th be...</td>\n",
       "      <td>-333777</td>\n",
       "      <td>50000</td>\n",
       "      <td></td>\n",
       "      <td>NaN</td>\n",
       "      <td>Need-Info  -jg/m</td>\n",
       "      <td>B</td>\n",
       "      <td>D</td>\n",
       "    </tr>\n",
       "    <tr>\n",
       "      <th>1</th>\n",
       "      <td>17858630</td>\n",
       "      <td>Approved Permit</td>\n",
       "      <td>Single Family Homes</td>\n",
       "      <td>Orange County</td>\n",
       "      <td>CA</td>\n",
       "      <td>Orange County</td>\n",
       "      <td>Irvine</td>\n",
       "      <td>Irvine</td>\n",
       "      <td>92618-1334</td>\n",
       "      <td>107 Landroute</td>\n",
       "      <td>...</td>\n",
       "      <td>9696565.0</td>\n",
       "      <td>quadParserPseudoImage</td>\n",
       "      <td>(E-PLAN) Montara Phase 13 Portola Springs. Tra...</td>\n",
       "      <td>00824568-RBP</td>\n",
       "      <td></td>\n",
       "      <td></td>\n",
       "      <td>NaN</td>\n",
       "      <td>issued</td>\n",
       "      <td>A-Single Family Home</td>\n",
       "      <td>B</td>\n",
       "    </tr>\n",
       "    <tr>\n",
       "      <th>2</th>\n",
       "      <td>17855104</td>\n",
       "      <td>Approved Permit</td>\n",
       "      <td>Res Rmdl, Addn, Int Fin</td>\n",
       "      <td>Connecticut</td>\n",
       "      <td>CT</td>\n",
       "      <td>Fairfield County</td>\n",
       "      <td>Bridgeport</td>\n",
       "      <td>Bridgeport</td>\n",
       "      <td>06606-5419</td>\n",
       "      <td>111 Gem Ave</td>\n",
       "      <td>...</td>\n",
       "      <td>9804935.0</td>\n",
       "      <td>quadParserPseudoImage</td>\n",
       "      <td>Siding, Windows, Bath &amp; Kitchen Remodel, New H...</td>\n",
       "      <td>-370746</td>\n",
       "      <td>9500</td>\n",
       "      <td></td>\n",
       "      <td>NaN</td>\n",
       "      <td>NEED INFO  -jg/m</td>\n",
       "      <td>B</td>\n",
       "      <td>D</td>\n",
       "    </tr>\n",
       "    <tr>\n",
       "      <th>3</th>\n",
       "      <td>17855372</td>\n",
       "      <td>Approved Permit</td>\n",
       "      <td>Alternative Residential Energy</td>\n",
       "      <td>Connecticut</td>\n",
       "      <td>CT</td>\n",
       "      <td>Fairfield County</td>\n",
       "      <td>Bridgeport</td>\n",
       "      <td>Bridgeport</td>\n",
       "      <td>06610-1725</td>\n",
       "      <td>66 Rose St</td>\n",
       "      <td>...</td>\n",
       "      <td>9804956.0</td>\n",
       "      <td>quadParserPseudoImage</td>\n",
       "      <td>Roof reinforcing for solar panel installation</td>\n",
       "      <td>-555113</td>\n",
       "      <td>5000</td>\n",
       "      <td></td>\n",
       "      <td>NaN</td>\n",
       "      <td>jg/m</td>\n",
       "      <td>A-No Dwelling Units</td>\n",
       "      <td>D</td>\n",
       "    </tr>\n",
       "    <tr>\n",
       "      <th>4</th>\n",
       "      <td>17824051</td>\n",
       "      <td>Approved Permit</td>\n",
       "      <td>Res Rmdl, Addn, Int Fin</td>\n",
       "      <td>South Dakota</td>\n",
       "      <td>SD</td>\n",
       "      <td>Lawrence County</td>\n",
       "      <td>Lawrence County</td>\n",
       "      <td>Lead</td>\n",
       "      <td>57754-3754</td>\n",
       "      <td>20687 Roman Rd</td>\n",
       "      <td>...</td>\n",
       "      <td>9668562.0</td>\n",
       "      <td>quadParserPseudoImage</td>\n",
       "      <td>640'RES,340'LOFT,96'DECKHOLES ONLY TILL TRUSS ...</td>\n",
       "      <td>00008862</td>\n",
       "      <td></td>\n",
       "      <td></td>\n",
       "      <td>NaN</td>\n",
       "      <td></td>\n",
       "      <td>B</td>\n",
       "      <td>B</td>\n",
       "    </tr>\n",
       "  </tbody>\n",
       "</table>\n",
       "<p>5 rows × 86 columns</p>\n",
       "</div>"
      ],
      "text/plain": [
       "   PERMITID       PRJ_STATUS                      CONST_TYPE      SITE_AREA  \\\n",
       "0  17855172  Approved Permit         Res Rmdl, Addn, Int Fin    Connecticut   \n",
       "1  17858630  Approved Permit             Single Family Homes  Orange County   \n",
       "2  17855104  Approved Permit         Res Rmdl, Addn, Int Fin    Connecticut   \n",
       "3  17855372  Approved Permit  Alternative Residential Energy    Connecticut   \n",
       "4  17824051  Approved Permit         Res Rmdl, Addn, Int Fin   South Dakota   \n",
       "\n",
       "  SITE_STATE         SITE_CNTY       SITE_JURIS   SITE_CITY    SITE_ZIP  \\\n",
       "0         CT  Fairfield County       Bridgeport  Bridgeport  06606-1042   \n",
       "1         CA     Orange County           Irvine      Irvine  92618-1334   \n",
       "2         CT  Fairfield County       Bridgeport  Bridgeport  06606-5419   \n",
       "3         CT  Fairfield County       Bridgeport  Bridgeport  06610-1725   \n",
       "4         SD   Lawrence County  Lawrence County        Lead  57754-3754   \n",
       "\n",
       "       SITE_ADDRS  ...    IMAGEID            DOCPARSERID  \\\n",
       "0    81 Waller Rd  ...  9804939.0  quadParserPseudoImage   \n",
       "1   107 Landroute  ...  9696565.0  quadParserPseudoImage   \n",
       "2     111 Gem Ave  ...  9804935.0  quadParserPseudoImage   \n",
       "3      66 Rose St  ...  9804956.0  quadParserPseudoImage   \n",
       "4  20687 Roman Rd  ...  9668562.0  quadParserPseudoImage   \n",
       "\n",
       "                               EXTRACTED_DESCRIPTION  EXTRACTED_NUMBER  \\\n",
       "0  Add 2nd bathroom, add laundry room, add 4th be...           -333777   \n",
       "1  (E-PLAN) Montara Phase 13 Portola Springs. Tra...      00824568-RBP   \n",
       "2  Siding, Windows, Bath & Kitchen Remodel, New H...           -370746   \n",
       "3      Roof reinforcing for solar panel installation           -555113   \n",
       "4  640'RES,340'LOFT,96'DECKHOLES ONLY TILL TRUSS ...          00008862   \n",
       "\n",
       "   EXTRACTED_VALUATION  EXTRACTED_UNITS EXTRACTED_NUMBER_OF_BUILDINGS  \\\n",
       "0                50000                                            NaN   \n",
       "1                                                                 NaN   \n",
       "2                 9500                                            NaN   \n",
       "3                 5000                                            NaN   \n",
       "4                                                                 NaN   \n",
       "\n",
       "   EXTRACTED_STATUS     IMPUTE_UNITS_FLAG IMPUTE_VALUATION_FLAG  \n",
       "0  Need-Info  -jg/m                     B                     D  \n",
       "1            issued  A-Single Family Home                     B  \n",
       "2  NEED INFO  -jg/m                     B                     D  \n",
       "3              jg/m   A-No Dwelling Units                     D  \n",
       "4                                       B                     B  \n",
       "\n",
       "[5 rows x 86 columns]"
      ]
     },
     "execution_count": 17,
     "metadata": {},
     "output_type": "execute_result"
    }
   ],
   "source": [
    "df_selection.head()"
   ]
  },
  {
   "cell_type": "code",
   "execution_count": 9,
   "metadata": {},
   "outputs": [
    {
     "data": {
      "text/plain": [
       "DeltaGenerator()"
      ]
     },
     "execution_count": 9,
     "metadata": {},
     "output_type": "execute_result"
    }
   ],
   "source": [
    "\n",
    "# Display DataFrame\n",
    "st.dataframe(df_selection)\n",
    "# Filter data based on selections\n",
    "df_selection = df[df.CONST_TYPE.isin(const_type_selection) & df.SITE_STATE.isin(state_selection)]\n",
    "\n",
    "# Display DataFrame\n",
    "st.dataframe(df_selection)\n"
   ]
  },
  {
   "cell_type": "code",
   "execution_count": 10,
   "metadata": {},
   "outputs": [
    {
     "name": "stderr",
     "output_type": "stream",
     "text": [
      "2024-05-31 21:22:53.257 Serialization of dataframe to Arrow table was unsuccessful due to: (\"Could not convert Timestamp('2020-12-21 09:34:25.589895') with type Timestamp: tried to convert to int64\", 'Conversion failed for column SITE_GEOCODE_DATE with type object'). Applying automatic fixes for column types to make the dataframe Arrow-compatible.\n"
     ]
    }
   ],
   "source": [
    "\n",
    "# Summary Statistics\n",
    "st.subheader('Summary Statistics')\n",
    "st.write(df_selection.describe())"
   ]
  },
  {
   "cell_type": "code",
   "execution_count": 11,
   "metadata": {},
   "outputs": [],
   "source": [
    "\n",
    "# Pivot table to aggregate data\n",
    "reshaped_df = df_selection.pivot_table(index='SITE_STATE', columns='CONST_TYPE', values='PERMITID', aggfunc='count', fill_value=0)\n",
    "reshaped_df = reshaped_df.sort_values(by='SITE_STATE', ascending=False)\n"
   ]
  },
  {
   "cell_type": "code",
   "execution_count": 12,
   "metadata": {},
   "outputs": [
    {
     "data": {
      "text/plain": [
       "DeltaGenerator()"
      ]
     },
     "execution_count": 12,
     "metadata": {},
     "output_type": "execute_result"
    }
   ],
   "source": [
    "\n",
    "# Display reshaped DataFrame\n",
    "st.subheader('Aggregated Data by State and Construction Type')\n",
    "st.dataframe(reshaped_df)\n"
   ]
  },
  {
   "cell_type": "code",
   "execution_count": 13,
   "metadata": {},
   "outputs": [],
   "source": [
    "\n",
    "# Prepare data for chart\n",
    "df_chart = reshaped_df.reset_index().melt(id_vars='SITE_STATE', var_name='CONST_TYPE', value_name='COUNT')\n"
   ]
  },
  {
   "cell_type": "code",
   "execution_count": 14,
   "metadata": {},
   "outputs": [
    {
     "ename": "NameError",
     "evalue": "name 'alt' is not defined",
     "output_type": "error",
     "traceback": [
      "\u001b[0;31m---------------------------------------------------------------------------\u001b[0m",
      "\u001b[0;31mNameError\u001b[0m                                 Traceback (most recent call last)",
      "Cell \u001b[0;32mIn[14], line 2\u001b[0m\n\u001b[1;32m      1\u001b[0m \u001b[38;5;66;03m# Display chart\u001b[39;00m\n\u001b[0;32m----> 2\u001b[0m chart \u001b[38;5;241m=\u001b[39m \u001b[43malt\u001b[49m\u001b[38;5;241m.\u001b[39mChart(df_chart)\u001b[38;5;241m.\u001b[39mmark_bar()\u001b[38;5;241m.\u001b[39mencode(\n\u001b[1;32m      3\u001b[0m     x\u001b[38;5;241m=\u001b[39malt\u001b[38;5;241m.\u001b[39mX(\u001b[38;5;124m'\u001b[39m\u001b[38;5;124mSITE_STATE:N\u001b[39m\u001b[38;5;124m'\u001b[39m, title\u001b[38;5;241m=\u001b[39m\u001b[38;5;124m'\u001b[39m\u001b[38;5;124mState\u001b[39m\u001b[38;5;124m'\u001b[39m),\n\u001b[1;32m      4\u001b[0m     y\u001b[38;5;241m=\u001b[39malt\u001b[38;5;241m.\u001b[39mY(\u001b[38;5;124m'\u001b[39m\u001b[38;5;124mCOUNT:Q\u001b[39m\u001b[38;5;124m'\u001b[39m, title\u001b[38;5;241m=\u001b[39m\u001b[38;5;124m'\u001b[39m\u001b[38;5;124mPermit Count\u001b[39m\u001b[38;5;124m'\u001b[39m),\n\u001b[1;32m      5\u001b[0m     color\u001b[38;5;241m=\u001b[39m\u001b[38;5;124m'\u001b[39m\u001b[38;5;124mCONST_TYPE:N\u001b[39m\u001b[38;5;124m'\u001b[39m\n\u001b[1;32m      6\u001b[0m )\u001b[38;5;241m.\u001b[39mproperties(height\u001b[38;5;241m=\u001b[39m\u001b[38;5;241m320\u001b[39m)\n\u001b[1;32m      7\u001b[0m st\u001b[38;5;241m.\u001b[39maltair_chart(chart, use_container_width\u001b[38;5;241m=\u001b[39m\u001b[38;5;28;01mTrue\u001b[39;00m)\n",
      "\u001b[0;31mNameError\u001b[0m: name 'alt' is not defined"
     ]
    }
   ],
   "source": [
    "\n",
    "# Display chart\n",
    "chart = alt.Chart(df_chart).mark_bar().encode(\n",
    "    x=alt.X('SITE_STATE:N', title='State'),\n",
    "    y=alt.Y('COUNT:Q', title='Permit Count'),\n",
    "    color='CONST_TYPE:N'\n",
    ").properties(height=320)\n",
    "st.altair_chart(chart, use_container_width=True)"
   ]
  },
  {
   "cell_type": "code",
   "execution_count": null,
   "metadata": {},
   "outputs": [
    {
     "data": {
      "text/plain": [
       "DeltaGenerator()"
      ]
     },
     "execution_count": 50,
     "metadata": {},
     "output_type": "execute_result"
    }
   ],
   "source": [
    "\n",
    "# Map visualization\n",
    "st.subheader('Permit Locations Map')"
   ]
  },
  {
   "cell_type": "code",
   "execution_count": null,
   "metadata": {},
   "outputs": [],
   "source": [
    "\n",
    "# Clean data for map visualization\n",
    "df_selection_map = df_selection[df_selection['SITE_LAT'].apply(lambda x: str(x).replace('.', '', 1).isdigit())]\n",
    "df_selection_map = df_selection_map[df_selection_map['SITE_LONG'].apply(lambda x: str(x).replace('.', '', 1).lstrip('-').isdigit())]\n",
    "df_selection_map['SITE_LAT1'] = df_selection_map['SITE_LAT'].astype(float)\n",
    "df_selection_map['SITE_LONG1'] = df_selection_map['SITE_LONG'].astype(float)\n"
   ]
  },
  {
   "cell_type": "code",
   "execution_count": null,
   "metadata": {},
   "outputs": [],
   "source": [
    "\n",
    "# Create a Folium map centered on the average latitude and longitude\n",
    "if not df_selection_map.empty:\n",
    "    map_center = [df_selection_map['SITE_LAT1'].mean(), df_selection_map['SITE_LONG1'].mean()]\n",
    "    m = folium.Map(location=map_center, zoom_start=5)\n",
    "\n",
    "    # Add marker cluster to the map\n",
    "    marker_cluster = MarkerCluster().add_to(m)\n",
    "\n",
    "    # Add points to the map\n",
    "    for idx, row in df_selection_map.iterrows():\n",
    "        folium.Marker(\n",
    "            location=[row['SITE_LAT1'], row['SITE_LONG1']],\n",
    "            popup=row['PMT_VALUE']\n",
    "        ).add_to(marker_cluster)\n",
    "\n",
    "    # Call to render Folium map in Streamlit\n",
    "    st_data = st_folium(m, width=800, height=500)\n",
    "\n",
    "    # Display the map\n",
    "    st.write('Permit Locations Map:')\n",
    "    st.write(st_data)\n",
    "else:\n",
    "    st.write(\"No valid coordinates available for mapping.\")"
   ]
  },
  {
   "cell_type": "code",
   "execution_count": null,
   "metadata": {},
   "outputs": [],
   "source": []
  }
 ],
 "metadata": {
  "kernelspec": {
   "display_name": "Python 3",
   "language": "python",
   "name": "python3"
  },
  "language_info": {
   "codemirror_mode": {
    "name": "ipython",
    "version": 3
   },
   "file_extension": ".py",
   "mimetype": "text/x-python",
   "name": "python",
   "nbconvert_exporter": "python",
   "pygments_lexer": "ipython3",
   "version": "3.11.9"
  }
 },
 "nbformat": 4,
 "nbformat_minor": 2
}
