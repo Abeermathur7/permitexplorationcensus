{
 "cells": [
  {
   "cell_type": "code",
   "execution_count": 38,
   "metadata": {},
   "outputs": [],
   "source": [
    "import streamlit as st\n",
    "import pandas as pd\n",
    "import folium\n",
    "from folium.plugins import MarkerCluster, HeatMap\n",
    "from streamlit_folium import st_folium"
   ]
  },
  {
   "cell_type": "code",
   "execution_count": 39,
   "metadata": {},
   "outputs": [
    {
     "data": {
      "text/plain": [
       "DeltaGenerator()"
      ]
     },
     "execution_count": 39,
     "metadata": {},
     "output_type": "execute_result"
    }
   ],
   "source": [
    "\n",
    "\n",
    "\n",
    "# Page title\n",
    "st.set_page_config(page_title='Permit Data Exploration', page_icon='📊')\n",
    "st.title('📊 Permit Data Exploration')\n",
    "\n",
    "with st.expander('About this app'):\n",
    "    st.markdown('**What can this app do?**')\n",
    "    st.info('Interact with the permit dataset/Parquet files and explore each column.')\n",
    "    st.markdown('**How to use the app?**')\n",
    "    st.warning('This is a prototype, functionality will be added as we develop further.')\n",
    "\n",
    "st.subheader('Explore Permit Data by Construction Type and State')"
   ]
  },
  {
   "cell_type": "code",
   "execution_count": 40,
   "metadata": {},
   "outputs": [],
   "source": [
    "\n",
    "# File upload\n",
    "uploaded_file = st.file_uploader(\"Upload your Parquet file\", type=['parquet'])\n",
    "\n",
    "if uploaded_file is not None:\n",
    "    df = pd.read_parquet(uploaded_file)\n",
    "else:\n",
    "    df = pd.read_parquet('data/csv_reveal-gc-2020-50.parquet')"
   ]
  },
  {
   "cell_type": "code",
   "execution_count": 41,
   "metadata": {},
   "outputs": [],
   "source": [
    "\n",
    "# Input widgets\n",
    "## Construction Type selection\n",
    "const_type_list = df.CONST_TYPE.unique()\n",
    "const_type_selection = st.multiselect('Select Construction Types', const_type_list, const_type_list[:3])\n"
   ]
  },
  {
   "cell_type": "code",
   "execution_count": 42,
   "metadata": {},
   "outputs": [],
   "source": [
    "\n",
    "## State selection\n",
    "state_list = df.SITE_STATE.unique()\n",
    "state_selection = st.multiselect('Select States', state_list, state_list[:3])\n",
    "\n",
    "jurisdiction_list = df['SITE_JURIS'].unique().tolist()\n",
    "jurisdiction_selection = st.multiselect('Select Jurisdictions', jurisdiction_list, jurisdiction_list[:3])\n"
   ]
  },
  {
   "cell_type": "code",
   "execution_count": 43,
   "metadata": {},
   "outputs": [],
   "source": [
    "\n",
    "# Filter data based on selections\n",
    "df_selection = df[\n",
    "    df['CONST_TYPE'].isin(const_type_selection) &\n",
    "    df['SITE_STATE'].isin(state_selection) &\n",
    "    df['SITE_JURIS'].isin(jurisdiction_selection)\n",
    "]\n"
   ]
  },
  {
   "cell_type": "code",
   "execution_count": 44,
   "metadata": {},
   "outputs": [
    {
     "data": {
      "text/plain": [
       "DeltaGenerator()"
      ]
     },
     "execution_count": 44,
     "metadata": {},
     "output_type": "execute_result"
    }
   ],
   "source": [
    "\n",
    "# Display DataFrame\n",
    "st.dataframe(df_selection)\n",
    "# Filter data based on selections\n",
    "df_selection = df[df.CONST_TYPE.isin(const_type_selection) & df.SITE_STATE.isin(state_selection)]\n",
    "\n",
    "# Display DataFrame\n",
    "st.dataframe(df_selection)\n"
   ]
  },
  {
   "cell_type": "code",
   "execution_count": 45,
   "metadata": {},
   "outputs": [
    {
     "name": "stderr",
     "output_type": "stream",
     "text": [
      "2024-05-31 19:49:03.827 Serialization of dataframe to Arrow table was unsuccessful due to: (\"Could not convert Timestamp('2020-12-21 09:34:25.589895') with type Timestamp: tried to convert to int64\", 'Conversion failed for column SITE_GEOCODE_DATE with type object'). Applying automatic fixes for column types to make the dataframe Arrow-compatible.\n"
     ]
    }
   ],
   "source": [
    "\n",
    "# Summary Statistics\n",
    "st.subheader('Summary Statistics')\n",
    "st.write(df_selection.describe())"
   ]
  },
  {
   "cell_type": "code",
   "execution_count": 46,
   "metadata": {},
   "outputs": [],
   "source": [
    "\n",
    "# Pivot table to aggregate data\n",
    "reshaped_df = df_selection.pivot_table(index='SITE_STATE', columns='CONST_TYPE', values='PERMITID', aggfunc='count', fill_value=0)\n",
    "reshaped_df = reshaped_df.sort_values(by='SITE_STATE', ascending=False)\n"
   ]
  },
  {
   "cell_type": "code",
   "execution_count": 47,
   "metadata": {},
   "outputs": [
    {
     "data": {
      "text/plain": [
       "DeltaGenerator()"
      ]
     },
     "execution_count": 47,
     "metadata": {},
     "output_type": "execute_result"
    }
   ],
   "source": [
    "\n",
    "# Display reshaped DataFrame\n",
    "st.subheader('Aggregated Data by State and Construction Type')\n",
    "st.dataframe(reshaped_df)\n"
   ]
  },
  {
   "cell_type": "code",
   "execution_count": 48,
   "metadata": {},
   "outputs": [],
   "source": [
    "\n",
    "# Prepare data for chart\n",
    "df_chart = reshaped_df.reset_index().melt(id_vars='SITE_STATE', var_name='CONST_TYPE', value_name='COUNT')\n"
   ]
  },
  {
   "cell_type": "code",
   "execution_count": 49,
   "metadata": {},
   "outputs": [
    {
     "data": {
      "text/plain": [
       "DeltaGenerator()"
      ]
     },
     "execution_count": 49,
     "metadata": {},
     "output_type": "execute_result"
    }
   ],
   "source": [
    "\n",
    "# Display chart\n",
    "chart = alt.Chart(df_chart).mark_bar().encode(\n",
    "    x=alt.X('SITE_STATE:N', title='State'),\n",
    "    y=alt.Y('COUNT:Q', title='Permit Count'),\n",
    "    color='CONST_TYPE:N'\n",
    ").properties(height=320)\n",
    "st.altair_chart(chart, use_container_width=True)"
   ]
  },
  {
   "cell_type": "code",
   "execution_count": 50,
   "metadata": {},
   "outputs": [
    {
     "data": {
      "text/plain": [
       "DeltaGenerator()"
      ]
     },
     "execution_count": 50,
     "metadata": {},
     "output_type": "execute_result"
    }
   ],
   "source": [
    "\n",
    "# Map visualization\n",
    "st.subheader('Permit Locations Map')"
   ]
  },
  {
   "cell_type": "code",
   "execution_count": 51,
   "metadata": {},
   "outputs": [],
   "source": [
    "\n",
    "# Clean data for map visualization\n",
    "df_selection_map = df_selection[df_selection['SITE_LAT'].apply(lambda x: str(x).replace('.', '', 1).isdigit())]\n",
    "df_selection_map = df_selection_map[df_selection_map['SITE_LONG'].apply(lambda x: str(x).replace('.', '', 1).lstrip('-').isdigit())]\n",
    "df_selection_map['SITE_LAT1'] = df_selection_map['SITE_LAT'].astype(float)\n",
    "df_selection_map['SITE_LONG1'] = df_selection_map['SITE_LONG'].astype(float)\n"
   ]
  },
  {
   "cell_type": "code",
   "execution_count": 52,
   "metadata": {},
   "outputs": [],
   "source": [
    "\n",
    "# Create a Folium map centered on the average latitude and longitude\n",
    "if not df_selection_map.empty:\n",
    "    map_center = [df_selection_map['SITE_LAT1'].mean(), df_selection_map['SITE_LONG1'].mean()]\n",
    "    m = folium.Map(location=map_center, zoom_start=5)\n",
    "\n",
    "    # Add marker cluster to the map\n",
    "    marker_cluster = MarkerCluster().add_to(m)\n",
    "\n",
    "    # Add points to the map\n",
    "    for idx, row in df_selection_map.iterrows():\n",
    "        folium.Marker(\n",
    "            location=[row['SITE_LAT1'], row['SITE_LONG1']],\n",
    "            popup=row['PMT_VALUE']\n",
    "        ).add_to(marker_cluster)\n",
    "\n",
    "    # Call to render Folium map in Streamlit\n",
    "    st_data = st_folium(m, width=800, height=500)\n",
    "\n",
    "    # Display the map\n",
    "    st.write('Permit Locations Map:')\n",
    "    st.write(st_data)\n",
    "else:\n",
    "    st.write(\"No valid coordinates available for mapping.\")"
   ]
  },
  {
   "cell_type": "code",
   "execution_count": null,
   "metadata": {},
   "outputs": [],
   "source": []
  }
 ],
 "metadata": {
  "kernelspec": {
   "display_name": "Python 3",
   "language": "python",
   "name": "python3"
  },
  "language_info": {
   "codemirror_mode": {
    "name": "ipython",
    "version": 3
   },
   "file_extension": ".py",
   "mimetype": "text/x-python",
   "name": "python",
   "nbconvert_exporter": "python",
   "pygments_lexer": "ipython3",
   "version": "3.11.9"
  }
 },
 "nbformat": 4,
 "nbformat_minor": 2
}
